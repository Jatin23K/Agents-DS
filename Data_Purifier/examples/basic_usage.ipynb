{
 "cells": [
  {
   "cell_type": "markdown",
   "metadata": {},
   "source": [
    "# Data Purifier Basic Usage Example\n",
    "\n",
    "This notebook demonstrates the basic usage of Data Purifier for cleaning and transforming your data."
   ]
  },
  {
   "cell_type": "markdown",
   "metadata": {},
   "source": [
    "## Setup\n",
    "First, let's import the required libraries and create some sample data with common issues."
   ]
  },
  {
   "cell_type": "code",
   "execution_count": null,
   "metadata": {},
   "source": [
    "import pandas as pd\n",
    "import numpy as np\n",
    "from data_purifier.tasks.cleaner_tasks import DataCleaner\n",
    "from data_purifier.tasks.transformer_tasks import DataTransformer\n",
    "\n",
    "# Create sample data with various issues\n",
    "np.random.seed(42)\n",
    "n_samples = 1000\n",
    "\n",
    "# Generate synthetic dataset\n",
    "raw_data = {\n",
    "    'age': np.random.normal(35, 10, n_samples),  # Some unrealistic ages\n",
    "    'income': np.random.lognormal(10, 1, n_samples),  # Skewed distribution\n",
    "    'education': np.random.choice(['High School', 'Bachelor', 'Master', 'PhD'], n_samples),\n",
    "    'satisfaction': np.random.choice([1, 2, 3, 4, 5], n_samples)\n",
    "}\n",
    "\n",
    "# Add some data quality issues\n",
    "df = pd.DataFrame(raw_data)\n",
    "df.loc[np.random.choice(n_samples, 50), 'age'] = np.nan  # Add missing values\n",
    "df.loc[np.random.choice(n_samples, 10), 'age'] = -5  # Add invalid ages\n",
    "df.loc[np.random.choice(n_samples, 20), 'income'] = 0  # Add suspicious incomes\n",
    "\n",
    "# Add some duplicate rows\n",
    "df = pd.concat([df, df.iloc[np.random.choice(n_samples, 30)]])\n",
    "\n",
    "print('Dataset shape:', df.shape)\n",
    "df.head()"
   ]
  },
  {
   "cell_type": "markdown",
   "metadata": {},
   "source": [
    "## Data Cleaning\n",
    "Now let's clean the data using DataCleaner to handle missing values, outliers, and duplicates."
   ]
  },
  {
   "cell_type": "code",
   "execution_count": null,
   "metadata": {},
   "source": [
    "# Initialize the cleaner\n",
    "cleaner = DataCleaner(df)\n",
    "\n",
    "# Clean the data\n",
    "cleaned_df = cleaner.remove_missing_values()\\\n",
    "                   .remove_duplicates()\\\n",
    "                   .handle_outliers()\\\n",
    "                   .get_result()\n",
    "\n",
    "print('Cleaned dataset shape:', cleaned_df.shape)\n",
    "cleaned_df.describe()"
   ]
  },
  {
   "cell_type": "markdown",
   "metadata": {},
   "source": [
    "## Data Transformation\n",
    "Next, let's transform the cleaned data by normalizing numeric columns and encoding categorical variables."
   ]
  },
  {
   "cell_type": "code",
   "execution_count": null,
   "metadata": {},
   "source": [
    "# Initialize the transformer\n",
    "transformer = DataTransformer(cleaned_df)\n",
    "\n",
    "# Transform the data\n",
    "transformed_df = transformer.normalize_numeric_columns()\\\n",
    "                           .encode_categorical_variables()\\\n",
    "                           .get_result()\n",
    "\n",
    "print('Transformed dataset shape:', transformed_df.shape)\n",
    "transformed_df.head()"
   ]
  },
  {
   "cell_type": "markdown",
   "metadata": {},
   "source": [
    "## Analysis of Results\n",
    "Let's examine the effects of our data cleaning and transformation."
   ]
  },
  {
   "cell_type": "code",
   "execution_count": null,
   "metadata": {},
   "source": [
    "# Compare statistics before and after\n",
    "print('Original Data Summary:\n')\n",
    "print(df.describe())\n",
    "print('\nTransformed Data Summary:\n')\n",
    "print(transformed_df.describe())\n",
    "\n",
    "# Check for any remaining issues\n",
    "print('\nMissing values after cleaning:', transformed_df.isnull().sum())\n",
    "print('Duplicate rows after cleaning:', transformed_df.duplicated().sum())"
   ]
  }
 ],
 "metadata": {
  "kernelspec": {
   "display_name": "Python 3",
   "language": "python",
   "name": "python3"
  },
  "language_info": {
   "codemirror_mode": {
    "name": "ipython",
    "version": 3
   },
   "file_extension": ".py",
   "mimetype": "text/x-python",
   "name": "python",
   "nbconvert_exporter": "python",
   "pygments_lexer": "ipython3",
   "version": "3.8.0"
  }
 },
 "nbformat": 4,
 "nbformat_minor": 4
}